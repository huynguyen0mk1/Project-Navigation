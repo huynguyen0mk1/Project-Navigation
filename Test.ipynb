{
 "cells": [
  {
   "cell_type": "code",
   "execution_count": null,
   "id": "6e512198",
   "metadata": {},
   "outputs": [],
   "source": [
    "!pip -q install ."
   ]
  },
  {
   "cell_type": "code",
   "execution_count": null,
   "id": "d6fa4f78",
   "metadata": {},
   "outputs": [],
   "source": [
    "import random\n",
    "import torch\n",
    "from collections import deque\n",
    "import matplotlib.pyplot as plt\n",
    "from unityagents import UnityEnvironment\n",
    "import numpy as np\n",
    "from dqn_agent import AgentObject\n",
    "%matplotlib inline"
   ]
  },
  {
   "cell_type": "code",
   "execution_count": null,
   "id": "81e71ea8",
   "metadata": {},
   "outputs": [],
   "source": [
    "env = UnityEnvironment(file_name=\"/data/Banana_Linux_NoVis/Banana.x86_64\")"
   ]
  },
  {
   "cell_type": "code",
   "execution_count": null,
   "id": "6b7d758e",
   "metadata": {},
   "outputs": [],
   "source": [
    "data_brain_name = env.brain_names[0]\n",
    "data_brain = env.brains[data_brain_name]"
   ]
  },
  {
   "cell_type": "code",
   "execution_count": null,
   "id": "c816d41e",
   "metadata": {},
   "outputs": [],
   "source": [
    "# reset the environment\n",
    "env_info = env.reset(train_mode=False)[data_brain_name]\n",
    "\n",
    "# number of agents in the environment\n",
    "print('Number of agents:', len(env_info.agents))\n",
    "\n",
    "# number of actions\n",
    "data_action_size = data_brain.vector_action_space_size\n",
    "print('Number of actions:', action_size)\n",
    "\n",
    "# examine the state space \n",
    "data_state = env_info.vector_observations[0]\n",
    "print('States look like:', data_state)\n",
    "data_state_size = len(data_state)\n",
    "print('States have length:', data_state_size)"
   ]
  },
  {
   "cell_type": "code",
   "execution_count": null,
   "id": "f3ba5736",
   "metadata": {},
   "outputs": [],
   "source": [
    "my_agent = AgentObject(data_state_size, data_action_size, data_seed=0)"
   ]
  },
  {
   "cell_type": "code",
   "execution_count": null,
   "id": "6dc0b08c",
   "metadata": {},
   "outputs": [],
   "source": [
    "my_agent.data_qnetwork_local.load_state_dict(torch.load('checkpoint.pth'))"
   ]
  },
  {
   "cell_type": "code",
   "execution_count": null,
   "id": "4a716948",
   "metadata": {},
   "outputs": [],
   "source": [
    "def test_dqn(env, my_agent, data_max_t=1000):\n",
    "    data_brain_name = env.brain_names[0]\n",
    "    env_info = env.reset(train_mode=False)[data_brain_name]\n",
    "    data_state = env_info.vector_observations[0] \n",
    "    data_score = 0\n",
    "    for t in range(data_max_t):\n",
    "        data_action = my_agent.act(data_state)\n",
    "        env_info = env.step(data_action)[data_brain_name]\n",
    "        data_next_state = env_info.vector_observations[0]\n",
    "        data_reward = env_info.rewards[0]\n",
    "        data_done = env_info.local_done[0]\n",
    "        data_score += data_reward\n",
    "        if data_done:\n",
    "            break\n",
    "    print(\"Score of this episode is: %.2f\" % (data_score)) "
   ]
  },
  {
   "cell_type": "code",
   "execution_count": null,
   "id": "8b174df3",
   "metadata": {},
   "outputs": [],
   "source": [
    "test_dqn(env, my_agent)"
   ]
  },
  {
   "cell_type": "code",
   "execution_count": null,
   "id": "29842fc9",
   "metadata": {},
   "outputs": [],
   "source": [
    "env.close()"
   ]
  }
 ],
 "metadata": {
  "kernelspec": {
   "display_name": "Python 3 (ipykernel)",
   "language": "python",
   "name": "python3"
  },
  "language_info": {
   "codemirror_mode": {
    "name": "ipython",
    "version": 3
   },
   "file_extension": ".py",
   "mimetype": "text/x-python",
   "name": "python",
   "nbconvert_exporter": "python",
   "pygments_lexer": "ipython3",
   "version": "3.10.11"
  }
 },
 "nbformat": 4,
 "nbformat_minor": 5
}
